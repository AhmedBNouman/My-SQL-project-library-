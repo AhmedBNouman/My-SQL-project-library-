{
 "cells": [
  {
   "cell_type": "code",
   "execution_count": 15,
   "metadata": {},
   "outputs": [
    {
     "name": "stdout",
     "output_type": "stream",
     "text": [
      "<mysql.connector.connection_cext.CMySQLConnection object at 0x00000234E5E56350>\n"
     ]
    }
   ],
   "source": [
    "# pip install mysql-connector-python\n",
    "import mysql.connector\n",
    "\n",
    "# Creating connection object\n",
    "mydb_conn = mysql.connector.connect(\n",
    "    host = \"localhost\",\n",
    "    user = \"root\",\n",
    "    password =\"Ahmed12345\",\n",
    "    port=3306,\n",
    "    database='library'\n",
    ")\n",
    "\n",
    "# Printing the connection object \n",
    "print(mydb_conn)"
   ]
  },
  {
   "cell_type": "code",
   "execution_count": 16,
   "metadata": {},
   "outputs": [
    {
     "data": {
      "text/plain": [
       "<mysql.connector.cursor_cext.CMySQLCursor at 0x234e5ef4180>"
      ]
     },
     "execution_count": 16,
     "metadata": {},
     "output_type": "execute_result"
    }
   ],
   "source": [
    "cursor = mydb_conn.cursor()\n",
    "cursor"
   ]
  },
  {
   "cell_type": "code",
   "execution_count": 19,
   "metadata": {},
   "outputs": [
    {
     "data": {
      "text/plain": [
       "[(2,)]"
      ]
     },
     "execution_count": 19,
     "metadata": {},
     "output_type": "execute_result"
    }
   ],
   "source": [
    "#find the number of availalbe copies of the book (Dracula) \n",
    "cursor.execute(\"\"\"SELECT (SELECT COUNT(*) FROM Books WHERE Title = 'Dracula') -\n",
    "(SELECT COUNT(*) FROM Loans as l inner join books as b on b.BookID=l.BookID\n",
    "where  b.Title = 'Dracula' AND ReturnedDate IS NULL) as available_copies;\"\"\")\n",
    "result = cursor.fetchall()\n",
    "result"
   ]
  },
  {
   "cell_type": "code",
   "execution_count": null,
   "metadata": {},
   "outputs": [],
   "source": [
    "# Add new books to the library\n",
    "cursor.execute(\"\"\"insert into books values(201,\"old man\",\"wiliam\",1977,1234567890);\"\"\")\n",
    "result = cursor.fetchall()\n",
    "result"
   ]
  },
  {
   "cell_type": "code",
   "execution_count": null,
   "metadata": {},
   "outputs": [],
   "source": [
    "#Check out Books: books(4043822646, 2855934983) whose patron_email(jvaan@wisdompets.com), loandate=2020-08-25, duedate=2020-09-08, loanid=by_your_choice\n",
    "cursor.execute(\"\"\"insert into loans (LoanID, BookID, PatronID, LoanDate, DueDate, ReturnedDate) values\n",
    "(3001,(select bookid from books where Barcode=4043822646),\n",
    "(select PatronID from patrons where email=\"jvaan@wisdompets.com\"),\"2020-08-25\",\"2020-09-08\",null),\n",
    "(3002,(select bookid from books where Barcode=2855934983),\n",
    "(select PatronID from patrons where email=\"jvaan@wisdompets.com\"),\"2020-08-25\",\"2020-09-08\",null);\"\"\")\n",
    "result = cursor.fetchall()\n",
    "result"
   ]
  },
  {
   "cell_type": "code",
   "execution_count": 23,
   "metadata": {},
   "outputs": [
    {
     "data": {
      "text/plain": [
       "[(10,\n",
       "  'The Count of Monte Cristo',\n",
       "  'Alexandre Dumas',\n",
       "  1884,\n",
       "  1799238621,\n",
       "  1996,\n",
       "  10,\n",
       "  99,\n",
       "  '2020-06-29',\n",
       "  '2020-07-13',\n",
       "  None,\n",
       "  'Kala',\n",
       "  'Simonian',\n",
       "  'ksimonian2q@landonhotel.com',\n",
       "  99),\n",
       " (155,\n",
       "  'The Prophet',\n",
       "  'Kahlil Gibran',\n",
       "  1923,\n",
       "  9013040583,\n",
       "  1997,\n",
       "  155,\n",
       "  47,\n",
       "  '2020-06-29',\n",
       "  '2020-07-13',\n",
       "  None,\n",
       "  'Lydie',\n",
       "  'Awmack',\n",
       "  'lawmack1a@samoca.org',\n",
       "  47),\n",
       " (169,\n",
       "  'Second Treatise of Government',\n",
       "  'John Locke',\n",
       "  1689,\n",
       "  5647388501,\n",
       "  1998,\n",
       "  169,\n",
       "  18,\n",
       "  '2020-06-29',\n",
       "  '2020-07-13',\n",
       "  None,\n",
       "  'Anthe',\n",
       "  'Dinjes',\n",
       "  'adinjesh@samoca.org',\n",
       "  18),\n",
       " (73,\n",
       "  'Dracula',\n",
       "  'Bram Stoker',\n",
       "  1897,\n",
       "  8730298424,\n",
       "  1999,\n",
       "  73,\n",
       "  59,\n",
       "  '2020-06-29',\n",
       "  '2020-07-13',\n",
       "  None,\n",
       "  'Cornelia',\n",
       "  'Koppe',\n",
       "  'ckoppe1m@landonhotel.com',\n",
       "  59)]"
      ]
     },
     "execution_count": 23,
     "metadata": {},
     "output_type": "execute_result"
    }
   ],
   "source": [
    "#/* Check books for Due back                            \n",
    "#/* generate a report of books due back on July 13, 2020 */\n",
    "#/* with patron contact information                      */\n",
    "cursor.execute(\"\"\"select *from books as b \n",
    "inner join loans as l on b.BookID=l.BookID\n",
    "inner join patrons as p on p.PatronID=l.PatronID \n",
    "where DueDate=\"2020-07-13\" ;\"\"\")\n",
    "result = cursor.fetchall()\n",
    "result"
   ]
  },
  {
   "cell_type": "code",
   "execution_count": 24,
   "metadata": {},
   "outputs": [
    {
     "data": {
      "text/plain": [
       "[]"
      ]
     },
     "execution_count": 24,
     "metadata": {},
     "output_type": "execute_result"
    }
   ],
   "source": [
    "#/* Return books to the library (which have barcode=6435968624) and return this book at this date(2020-07-05)*/\n",
    "cursor.execute(\"\"\"UPDATE Loans SET ReturnedDate = '2020-07-05' \n",
    "WHERE BookID = (SELECT BookID FROM Books WHERE Barcode = 6435968624) \n",
    "AND ReturnedDate IS NULL;\"\"\")\n",
    "result = cursor.fetchall()\n",
    "result"
   ]
  },
  {
   "cell_type": "code",
   "execution_count": 25,
   "metadata": {},
   "outputs": [
    {
     "data": {
      "text/plain": [
       "[(66, 'Gilbert', 3),\n",
       " (57, 'Kahaleel', 4),\n",
       " (32, 'Demetri', 4),\n",
       " (53, 'Perceval', 4)]"
      ]
     },
     "execution_count": 25,
     "metadata": {},
     "output_type": "execute_result"
    }
   ],
   "source": [
    "#/* Encourage Patrons to check out books                */\n",
    "#/* generate a report of showing 10 patrons who have\n",
    "#checked out the fewest books.                          */\n",
    "\n",
    "cursor.execute(\"\"\"select p.PatronID ,p.FirstName,count(l.LoanID) as count_of_books_cheked_out from patrons as p\n",
    "inner join loans AS l on p.PatronID=l.BookID\n",
    "group by p.PatronID ,p.FirstName\n",
    "order by count_of_books_cheked_out asc \n",
    "limit 4;\"\"\")\n",
    "result = cursor.fetchall()\n",
    "result"
   ]
  },
  {
   "cell_type": "code",
   "execution_count": 26,
   "metadata": {},
   "outputs": [
    {
     "data": {
      "text/plain": [
       "[(154, 'An Occurrence at Owl Creek Bridge', 1890),\n",
       " (91,\n",
       "  'The Importance of Being Earnest: A Trivial Comedy for Serious People',\n",
       "  1895),\n",
       " (95, 'Also sprach Zarathustra', 1896),\n",
       " (73, 'Dracula', 1897),\n",
       " (119, 'The Tale of Peter Rabbit', 1901),\n",
       " (130, 'Peter Pan', 1911),\n",
       " (155, 'The Prophet', 1923)]"
      ]
     },
     "execution_count": 26,
     "metadata": {},
     "output_type": "execute_result"
    }
   ],
   "source": [
    "#/* Find books to feature for an event                  \n",
    "#create a list of books from 1890s that are\n",
    "#currently available   */\n",
    "cursor.execute(\"\"\"select b.bookid,b.title,b.Published from books as b \n",
    " inner join loans as l on l.BookID=b.BookID \n",
    " where  b.Published >=1890 and l.ReturnedDate is null\n",
    " order by b.Published asc;\"\"\")\n",
    "result = cursor.fetchall()\n",
    "result"
   ]
  },
  {
   "cell_type": "code",
   "execution_count": 27,
   "metadata": {},
   "outputs": [
    {
     "data": {
      "text/plain": [
       "[(1890, 3),\n",
       " (1895, 3),\n",
       " (1847, 2),\n",
       " (1869, 2),\n",
       " (1850, 2),\n",
       " (1892, 2),\n",
       " (1859, 2),\n",
       " (1884, 2),\n",
       " (1898, 2),\n",
       " (1899, 2),\n",
       " (1911, 2),\n",
       " (1922, 2),\n",
       " (1811, 1),\n",
       " (1813, 1),\n",
       " (1815, 1),\n",
       " (1818, 1),\n",
       " (1839, 1),\n",
       " (1759, 1),\n",
       " (1849, 1),\n",
       " (1851, 1),\n",
       " (1852, 1),\n",
       " (1854, 1),\n",
       " (1858, 1),\n",
       " (1861, 1),\n",
       " (1865, 1),\n",
       " (1876, 1),\n",
       " (1878, 1),\n",
       " (1879, 1),\n",
       " (1375, 1),\n",
       " (1883, 1),\n",
       " (1532, 1),\n",
       " (1886, 1),\n",
       " (1887, 1),\n",
       " (1889, 1),\n",
       " (1605, 1),\n",
       " (1880, 1),\n",
       " (1894, 1),\n",
       " (1670, 1),\n",
       " (1896, 1),\n",
       " (1897, 1),\n",
       " (1689, 1),\n",
       " (1726, 1),\n",
       " (1900, 1),\n",
       " (1901, 1),\n",
       " (1902, 1),\n",
       " (1905, 1),\n",
       " (1906, 1),\n",
       " (1908, 1),\n",
       " (1729, 1),\n",
       " (1913, 1),\n",
       " (1914, 1),\n",
       " (1915, 1),\n",
       " (1920, 1),\n",
       " (1921, 1),\n",
       " (1791, 1),\n",
       " (1923, 1),\n",
       " (1977, 1)]"
      ]
     },
     "execution_count": 27,
     "metadata": {},
     "output_type": "execute_result"
    }
   ],
   "source": [
    "#/* Book Statistics \n",
    "#/* create a report to show how many books were \n",
    "#published each year.  \n",
    "cursor.execute(\"\"\"SELECT Published, COUNT(DISTINCT(Title)) AS TotalNumberOfPublishedBooks FROM Books\n",
    "GROUP BY Published\n",
    "ORDER BY TotalNumberOfPublishedBooks DESC; \"\"\")\n",
    "result = cursor.fetchall()\n",
    "result"
   ]
  },
  {
   "cell_type": "code",
   "execution_count": 28,
   "metadata": {},
   "outputs": [
    {
     "data": {
      "text/plain": [
       "[('Frankenstein; Or, The Modern Prometheus',\n",
       "  'Mary Wollstonecraft Shelley',\n",
       "  1818,\n",
       "  53),\n",
       " ('The Awakening, and Selected Short Stories', 'Kate Chopin', 1899, 43),\n",
       " ('The War of the Worlds', 'H. G. Wells', 1898, 43),\n",
       " ('The Scarlet Letter', 'Nathaniel Hawthorne', 1850, 42),\n",
       " ('The Picture of Dorian Gray', 'Oscar Wilde', 1890, 41)]"
      ]
     },
     "execution_count": 28,
     "metadata": {},
     "output_type": "execute_result"
    }
   ],
   "source": [
    "#/* Book Statistics                                           */\n",
    "#/* create a report to show 5 most popular Books to check out */\n",
    "cursor.execute(\"\"\"SELECT b.Title, b.Author, b.Published, COUNT(b.Title) AS TotalTimesOfLoans FROM Books b\n",
    "JOIN Loans l ON b.BookID = l.BookID\n",
    "GROUP BY b.Title, b.Author, b.Published\n",
    "ORDER BY 4 DESC\n",
    "LIMIT 5;\"\"\")\n",
    "result = cursor.fetchall()\n",
    "result"
   ]
  }
 ],
 "metadata": {
  "kernelspec": {
   "display_name": "machine_learning",
   "language": "python",
   "name": "python3"
  },
  "language_info": {
   "codemirror_mode": {
    "name": "ipython",
    "version": 3
   },
   "file_extension": ".py",
   "mimetype": "text/x-python",
   "name": "python",
   "nbconvert_exporter": "python",
   "pygments_lexer": "ipython3",
   "version": "3.13.2"
  }
 },
 "nbformat": 4,
 "nbformat_minor": 2
}
